{
  "nbformat": 4,
  "nbformat_minor": 0,
  "metadata": {
    "colab": {
      "provenance": []
    },
    "kernelspec": {
      "name": "python3",
      "display_name": "Python 3"
    },
    "language_info": {
      "name": "python"
    }
  },
  "cells": [
    {
      "cell_type": "code",
      "execution_count": 1,
      "metadata": {
        "colab": {
          "base_uri": "https://localhost:8080/"
        },
        "id": "g-SwoZNFyQ3z",
        "outputId": "1d849560-4d7b-4645-e52c-ab5d3d751b42"
      },
      "outputs": [
        {
          "output_type": "stream",
          "name": "stdout",
          "text": [
            "Hello, Mike!\n",
            "You will be 40 years old after 10 years.\n",
            "Your height is 1.85 meters\n"
          ]
        }
      ],
      "source": [
        "# 1. Variables and Data Types (5 Marks)\n",
        "\n",
        "# Write a Python program that:\n",
        "\n",
        "# a) Declares variables for storing a user’s name, age, and height.\n",
        "\n",
        "# b) Prints a greeting message using the name.\n",
        "\n",
        "# c) Calculates the user’s age 10 years from now.\n",
        "\n",
        "# d) Displays height in meters by converting height from centimetres.\n",
        "\n",
        "name = \"Mike\"\n",
        "age = 30\n",
        "height = 185.0\n",
        "print(\"Hello, {}!\".format(name))\n",
        "ageAfterTenYears = age + 10\n",
        "print(\"You will be\", ageAfterTenYears, \"years old after 10 years.\")\n",
        "print(\"Your height is {:.2f} meters\".format(height / 100))"
      ]
    },
    {
      "cell_type": "code",
      "source": [
        "# 2. Conditional Statements (5 Marks)\n",
        "\n",
        "# Write a Python program that:\n",
        "\n",
        "# a) Prompts the user to enter a number.\n",
        "\n",
        "# b) Checks if the number is positive, negative, or zero.\n",
        "\n",
        "# c) Prints an appropriate message based on the result.\n",
        "\n",
        "number = int(input(\"Please input a number: \"))\n",
        "if number > 0:\n",
        "    print(\"{number} is positive.\".format(number = number))\n",
        "elif number < 0:\n",
        "    print(\"{0} is negative.\".format(number))\n",
        "else:\n",
        "    print(number, \"is zero.\")"
      ],
      "metadata": {
        "colab": {
          "base_uri": "https://localhost:8080/"
        },
        "id": "R3k1Z2RGyY7e",
        "outputId": "9432c1ac-9a7d-41b4-faa8-3c1096c88a1e"
      },
      "execution_count": 2,
      "outputs": [
        {
          "output_type": "stream",
          "name": "stdout",
          "text": [
            "Please input a number: 89\n",
            "89 is positive.\n"
          ]
        }
      ]
    },
    {
      "cell_type": "code",
      "source": [
        "# 3. Loops and Iteration (5 Marks)\n",
        "\n",
        "# Write a program that:\n",
        "\n",
        "# a) Prompts the user to input an integer nnn.\n",
        "\n",
        "# b) Uses a for loop to print all even numbers from 1 up to nnn.\n",
        "\n",
        "# c) Ensures only even numbers appear in the output.\n",
        "\n",
        "nnn = int(input(\"Please input a number: \"))\n",
        "print(\"All even numbers from 1 to {} are listed here:\".format(nnn))\n",
        "# Since 1 is odd number, we start from 2 which is even.\n",
        "for number in range(2, nnn + 1, 2):\n",
        "    print(number)\n"
      ],
      "metadata": {
        "colab": {
          "base_uri": "https://localhost:8080/"
        },
        "id": "QkzD0RlYyek4",
        "outputId": "e72a8c81-1b7b-440c-fa81-8f559359c2f5"
      },
      "execution_count": 3,
      "outputs": [
        {
          "output_type": "stream",
          "name": "stdout",
          "text": [
            "Please input a number: 39\n",
            "All even numbers from 1 to 39 are listed here:\n",
            "2\n",
            "4\n",
            "6\n",
            "8\n",
            "10\n",
            "12\n",
            "14\n",
            "16\n",
            "18\n",
            "20\n",
            "22\n",
            "24\n",
            "26\n",
            "28\n",
            "30\n",
            "32\n",
            "34\n",
            "36\n",
            "38\n"
          ]
        }
      ]
    },
    {
      "cell_type": "code",
      "source": [
        "# 4. Functions (5 Marks)\n",
        "\n",
        "# Write a program that:\n",
        "\n",
        "# a) Defines a function to calculate the area of a rectangle using length and width as inputs.\n",
        "\n",
        "# b) Prompts the user to input values for length and width.\n",
        "\n",
        "# c) Calls the function to calculate and then displays the area in a formatted message.\n",
        "\n",
        "def calculateArea(length, width):\n",
        "    return length * width\n",
        "\n",
        "print(\"Let me help you to calculate the area of a rectangle.\")\n",
        "length = float(input(\"Please input the length: \"))\n",
        "width = float(input(\"Please input the width: \"))\n",
        "area = calculateArea(length, width)\n",
        "\n",
        "print(\"The area of rectangle (length: {length}, width: {width}) is {area}.\".format(length = length, width = width, area = area))"
      ],
      "metadata": {
        "colab": {
          "base_uri": "https://localhost:8080/"
        },
        "id": "dYgnLumrylVc",
        "outputId": "59477c0e-92e5-41be-80a9-c70372fe1e0b"
      },
      "execution_count": 4,
      "outputs": [
        {
          "output_type": "stream",
          "name": "stdout",
          "text": [
            "Let me help you to calculate the area of a rectangle.\n",
            "Please input the length: 38\n",
            "Please input the width: 23\n",
            "The area of rectangle (length: 38.0, width: 23.0) is 874.0.\n"
          ]
        }
      ]
    }
  ]
}